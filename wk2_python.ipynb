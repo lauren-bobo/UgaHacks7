{
  "nbformat": 4,
  "nbformat_minor": 0,
  "metadata": {
    "colab": {
      "provenance": [],
      "include_colab_link": true
    },
    "kernelspec": {
      "name": "python3",
      "display_name": "Python 3"
    },
    "language_info": {
      "name": "python"
    }
  },
  "cells": [
    {
      "cell_type": "markdown",
      "metadata": {
        "id": "view-in-github",
        "colab_type": "text"
      },
      "source": [
        "<a href=\"https://colab.research.google.com/github/lauren-bobo/UgaHacks7/blob/main/wk2_python.ipynb\" target=\"_parent\"><img src=\"https://colab.research.google.com/assets/colab-badge.svg\" alt=\"Open In Colab\"/></a>"
      ]
    },
    {
      "cell_type": "markdown",
      "source": [
        "[CSCI 3360 Data Science I](https://jinsungit.github.io/teaching/Spring2024/)\n",
        "\n",
        "Spring 2025\n",
        "\n",
        "University of Georgia\n",
        "\n",
        "Jin Sun <jinsun@uga.edu>\n",
        "\n",
        "\n",
        "\n"
      ],
      "metadata": {
        "id": "wJ0_wrHc6L0g"
      }
    },
    {
      "cell_type": "markdown",
      "source": [
        "\n",
        "\n",
        "# Week 2: Python Intro/Review\n",
        "\n",
        "Python becomes a super popular programming language for data science and machine learning. You can find state-of-the-art data analysis code and machine learning models (as powerful as ChatGPT) all written in Python. It is important to get familiar with this language!\n",
        "\n",
        "\n",
        "\n",
        "The materials are adapated from:\n",
        "https://github.com/jakevdp/WhirlwindTourOfPython. The book contains all the details that might be omitted in this lecture.\n",
        "\n",
        "The original book has Creative Commons 0 license."
      ],
      "metadata": {
        "id": "IqmrKuvIJ-LX"
      }
    },
    {
      "cell_type": "markdown",
      "source": [
        "# Install\n",
        "\n",
        "Most likely, your operating system already has its own python installed. But we will start from scratch."
      ],
      "metadata": {
        "id": "d_LD95ndzXlh"
      }
    },
    {
      "cell_type": "markdown",
      "source": [
        "### Installation with conda\n",
        "\n",
        "Though there are various ways to install Python, the one I would suggest – particularly if you wish to eventually use the data science tools mentioned above – is via the cross-platform Anaconda distribution.\n",
        "There are two flavors of the Anaconda distribution:\n",
        "\n",
        "- [Miniconda](https://docs.conda.io/projects/miniconda/en/latest/) gives you Python interpreter itself, along with a command-line tool called ``conda`` which operates as a cross-platform package manager geared toward Python packages, similar in spirit to the ``apt`` or ``yum`` tools that Linux users might be familiar with.\n",
        "- [Anaconda](https://docs.conda.io/projects/conda/en/stable/user-guide/install/download.html#downloading-conda) includes both Python and ``conda``, and additionally bundles a suite of other pre-installed packages geared toward scientific computing.\n",
        "\n",
        "You can always install any packages you want with Miniconda. So I recommend to start lightweight and install Miniconda.\n",
        "\n",
        "To get started, download and install the Miniconda package – make sure to choose a version with Python 3."
      ],
      "metadata": {
        "id": "gg20pJjYVFRG"
      }
    },
    {
      "cell_type": "markdown",
      "source": [
        "## The Zen of Python\n",
        "\n",
        "Python aficionados are often quick to point out how \"intuitive\", \"beautiful\", or \"fun\" Python is.\n",
        "While I tend to agree, I also recognize that beauty, intuition, and fun often go hand in hand with familiarity, and so for those familiar with other languages such florid sentiments can come across as a bit smug.\n",
        "Nevertheless, I hope that if you give Python a chance, you'll see where such impressions might come from.\n",
        "And if you *really* want to dig into the programming philosophy that drives much of the coding practice of Python power-users, a nice little Easter egg exists in the Python interpreter: simply close your eyes, meditate for a few minutes, and ``import this``:"
      ],
      "metadata": {
        "id": "YGKFXhktZngg"
      }
    },
    {
      "cell_type": "code",
      "source": [
        "import this"
      ],
      "metadata": {
        "id": "t8X0BQWGZoGa",
        "colab": {
          "base_uri": "https://localhost:8080/"
        },
        "outputId": "3f39129b-09b1-4804-8e10-5d5d6afa1ef4"
      },
      "execution_count": null,
      "outputs": [
        {
          "output_type": "stream",
          "name": "stdout",
          "text": [
            "The Zen of Python, by Tim Peters\n",
            "\n",
            "Beautiful is better than ugly.\n",
            "Explicit is better than implicit.\n",
            "Simple is better than complex.\n",
            "Complex is better than complicated.\n",
            "Flat is better than nested.\n",
            "Sparse is better than dense.\n",
            "Readability counts.\n",
            "Special cases aren't special enough to break the rules.\n",
            "Although practicality beats purity.\n",
            "Errors should never pass silently.\n",
            "Unless explicitly silenced.\n",
            "In the face of ambiguity, refuse the temptation to guess.\n",
            "There should be one-- and preferably only one --obvious way to do it.\n",
            "Although that way may not be obvious at first unless you're Dutch.\n",
            "Now is better than never.\n",
            "Although never is often better than *right* now.\n",
            "If the implementation is hard to explain, it's a bad idea.\n",
            "If the implementation is easy to explain, it may be a good idea.\n",
            "Namespaces are one honking great idea -- let's do more of those!\n"
          ]
        }
      ]
    },
    {
      "cell_type": "markdown",
      "source": [
        "# Virtual environment\n",
        "\n",
        "Why we want to install another Python despite that we already have one from the operating system?\n",
        "\n",
        "Because we don't want to break the system functions while installing python packages with different versions. In general, you might want to have a different virtual environment for each of your project.\n",
        "\n",
        "\n",
        "A **virtual environment** is a self-contained folder that specifies the version of all packages you use in your Python development.\n"
      ],
      "metadata": {
        "id": "f02o93ne1IQ5"
      }
    },
    {
      "cell_type": "code",
      "source": [
        "conda create -n myenv python=3.9"
      ],
      "metadata": {
        "id": "2bDyKDyw1LAT",
        "colab": {
          "base_uri": "https://localhost:8080/",
          "height": 321
        },
        "outputId": "8b88fff9-338e-45e7-c1f7-1d548f505cf5"
      },
      "execution_count": null,
      "outputs": [
        {
          "output_type": "error",
          "ename": "ValueError",
          "evalue": "The python kernel does not appear to be a conda environment.  Please use ``%pip install`` instead.",
          "traceback": [
            "\u001b[0;31m---------------------------------------------------------------------------\u001b[0m",
            "\u001b[0;31mValueError\u001b[0m                                Traceback (most recent call last)",
            "\u001b[0;32m<ipython-input-3-9426080a4259>\u001b[0m in \u001b[0;36m<cell line: 1>\u001b[0;34m()\u001b[0m\n\u001b[0;32m----> 1\u001b[0;31m \u001b[0mget_ipython\u001b[0m\u001b[0;34m(\u001b[0m\u001b[0;34m)\u001b[0m\u001b[0;34m.\u001b[0m\u001b[0mrun_line_magic\u001b[0m\u001b[0;34m(\u001b[0m\u001b[0;34m'conda'\u001b[0m\u001b[0;34m,\u001b[0m \u001b[0;34m'create -n myenv python=3.9'\u001b[0m\u001b[0;34m)\u001b[0m\u001b[0;34m\u001b[0m\u001b[0;34m\u001b[0m\u001b[0m\n\u001b[0m",
            "\u001b[0;32m/usr/local/lib/python3.10/dist-packages/IPython/core/interactiveshell.py\u001b[0m in \u001b[0;36mrun_line_magic\u001b[0;34m(self, magic_name, line, _stack_depth)\u001b[0m\n\u001b[1;32m   2416\u001b[0m                 \u001b[0mkwargs\u001b[0m\u001b[0;34m[\u001b[0m\u001b[0;34m'local_ns'\u001b[0m\u001b[0;34m]\u001b[0m \u001b[0;34m=\u001b[0m \u001b[0mself\u001b[0m\u001b[0;34m.\u001b[0m\u001b[0mget_local_scope\u001b[0m\u001b[0;34m(\u001b[0m\u001b[0mstack_depth\u001b[0m\u001b[0;34m)\u001b[0m\u001b[0;34m\u001b[0m\u001b[0;34m\u001b[0m\u001b[0m\n\u001b[1;32m   2417\u001b[0m             \u001b[0;32mwith\u001b[0m \u001b[0mself\u001b[0m\u001b[0;34m.\u001b[0m\u001b[0mbuiltin_trap\u001b[0m\u001b[0;34m:\u001b[0m\u001b[0;34m\u001b[0m\u001b[0;34m\u001b[0m\u001b[0m\n\u001b[0;32m-> 2418\u001b[0;31m                 \u001b[0mresult\u001b[0m \u001b[0;34m=\u001b[0m \u001b[0mfn\u001b[0m\u001b[0;34m(\u001b[0m\u001b[0;34m*\u001b[0m\u001b[0margs\u001b[0m\u001b[0;34m,\u001b[0m \u001b[0;34m**\u001b[0m\u001b[0mkwargs\u001b[0m\u001b[0;34m)\u001b[0m\u001b[0;34m\u001b[0m\u001b[0;34m\u001b[0m\u001b[0m\n\u001b[0m\u001b[1;32m   2419\u001b[0m             \u001b[0;32mreturn\u001b[0m \u001b[0mresult\u001b[0m\u001b[0;34m\u001b[0m\u001b[0;34m\u001b[0m\u001b[0m\n\u001b[1;32m   2420\u001b[0m \u001b[0;34m\u001b[0m\u001b[0m\n",
            "\u001b[0;32m<decorator-gen-100>\u001b[0m in \u001b[0;36mconda\u001b[0;34m(self, line)\u001b[0m\n",
            "\u001b[0;32m/usr/local/lib/python3.10/dist-packages/IPython/core/magic.py\u001b[0m in \u001b[0;36m<lambda>\u001b[0;34m(f, *a, **k)\u001b[0m\n\u001b[1;32m    185\u001b[0m     \u001b[0;31m# but it's overkill for just that one bit of state.\u001b[0m\u001b[0;34m\u001b[0m\u001b[0;34m\u001b[0m\u001b[0m\n\u001b[1;32m    186\u001b[0m     \u001b[0;32mdef\u001b[0m \u001b[0mmagic_deco\u001b[0m\u001b[0;34m(\u001b[0m\u001b[0marg\u001b[0m\u001b[0;34m)\u001b[0m\u001b[0;34m:\u001b[0m\u001b[0;34m\u001b[0m\u001b[0;34m\u001b[0m\u001b[0m\n\u001b[0;32m--> 187\u001b[0;31m         \u001b[0mcall\u001b[0m \u001b[0;34m=\u001b[0m \u001b[0;32mlambda\u001b[0m \u001b[0mf\u001b[0m\u001b[0;34m,\u001b[0m \u001b[0;34m*\u001b[0m\u001b[0ma\u001b[0m\u001b[0;34m,\u001b[0m \u001b[0;34m**\u001b[0m\u001b[0mk\u001b[0m\u001b[0;34m:\u001b[0m \u001b[0mf\u001b[0m\u001b[0;34m(\u001b[0m\u001b[0;34m*\u001b[0m\u001b[0ma\u001b[0m\u001b[0;34m,\u001b[0m \u001b[0;34m**\u001b[0m\u001b[0mk\u001b[0m\u001b[0;34m)\u001b[0m\u001b[0;34m\u001b[0m\u001b[0;34m\u001b[0m\u001b[0m\n\u001b[0m\u001b[1;32m    188\u001b[0m \u001b[0;34m\u001b[0m\u001b[0m\n\u001b[1;32m    189\u001b[0m         \u001b[0;32mif\u001b[0m \u001b[0mcallable\u001b[0m\u001b[0;34m(\u001b[0m\u001b[0marg\u001b[0m\u001b[0;34m)\u001b[0m\u001b[0;34m:\u001b[0m\u001b[0;34m\u001b[0m\u001b[0;34m\u001b[0m\u001b[0m\n",
            "\u001b[0;32m/usr/local/lib/python3.10/dist-packages/IPython/core/magics/packaging.py\u001b[0m in \u001b[0;36mconda\u001b[0;34m(self, line)\u001b[0m\n\u001b[1;32m     84\u001b[0m         \"\"\"\n\u001b[1;32m     85\u001b[0m         \u001b[0;32mif\u001b[0m \u001b[0;32mnot\u001b[0m \u001b[0m_is_conda_environment\u001b[0m\u001b[0;34m(\u001b[0m\u001b[0;34m)\u001b[0m\u001b[0;34m:\u001b[0m\u001b[0;34m\u001b[0m\u001b[0;34m\u001b[0m\u001b[0m\n\u001b[0;32m---> 86\u001b[0;31m             raise ValueError(\"The python kernel does not appear to be a conda environment.  \"\n\u001b[0m\u001b[1;32m     87\u001b[0m                              \"Please use ``%pip install`` instead.\")\n\u001b[1;32m     88\u001b[0m \u001b[0;34m\u001b[0m\u001b[0m\n",
            "\u001b[0;31mValueError\u001b[0m: The python kernel does not appear to be a conda environment.  Please use ``%pip install`` instead."
          ]
        }
      ]
    },
    {
      "cell_type": "markdown",
      "source": [
        "Each time you run your code, make sure you are \"in\" your virtual environment.\n",
        "\n",
        "To enter your environment, you have to **activate** it:"
      ],
      "metadata": {
        "id": "PTk0NBxKVd4J"
      }
    },
    {
      "cell_type": "code",
      "source": [
        "conda activate myenv"
      ],
      "metadata": {
        "id": "PMcoDy1oV8Ge"
      },
      "execution_count": null,
      "outputs": []
    },
    {
      "cell_type": "markdown",
      "source": [
        "You will see the prefix of your environment in your prompt if you use a terminal."
      ],
      "metadata": {
        "id": "EcsJxt6SV-El"
      }
    },
    {
      "cell_type": "markdown",
      "source": [
        "Note: Google Colab is always using a different enviornment for its session."
      ],
      "metadata": {
        "id": "5UTyQ-DrWO36"
      }
    },
    {
      "cell_type": "code",
      "source": [
        "!pip install numpy"
      ],
      "metadata": {
        "colab": {
          "base_uri": "https://localhost:8080/"
        },
        "id": "W7cCYYEe1naM",
        "outputId": "fdc85b39-7287-4f53-cfce-adb31ea87713"
      },
      "execution_count": null,
      "outputs": [
        {
          "output_type": "stream",
          "name": "stdout",
          "text": [
            "Requirement already satisfied: numpy in /usr/local/lib/python3.10/dist-packages (1.23.5)\n"
          ]
        }
      ]
    },
    {
      "cell_type": "code",
      "source": [
        "!top"
      ],
      "metadata": {
        "colab": {
          "base_uri": "https://localhost:8080/"
        },
        "id": "S0Ge3ChrViCB",
        "outputId": "0379549b-eed7-44b2-dc9c-9ac3ffe13ff5"
      },
      "execution_count": null,
      "outputs": [
        {
          "output_type": "stream",
          "name": "stdout",
          "text": [
            "\u001b[?1h\u001b=\u001b[H\u001b[2J\u001b[mtop - 20:24:46 up 12 min,  0 users,  load average: 0.54, 0.38, 0.26\u001b[m\u001b[m\u001b[m\u001b[m\u001b[K\n",
            "Tasks:\u001b[m\u001b[m\u001b[1m  17 \u001b[m\u001b[mtotal,\u001b[m\u001b[m\u001b[1m   1 \u001b[m\u001b[mrunning,\u001b[m\u001b[m\u001b[1m  15 \u001b[m\u001b[msleeping,\u001b[m\u001b[m\u001b[1m   0 \u001b[m\u001b[mstopped,\u001b[m\u001b[m\u001b[1m   1 \u001b[m\u001b[mzombie\u001b[m\u001b[m\u001b[m\u001b[m\u001b[K\n",
            "%Cpu(s):\u001b[m\u001b[m\u001b[1m 31.2 \u001b[m\u001b[mus,\u001b[m\u001b[m\u001b[1m 31.2 \u001b[m\u001b[msy,\u001b[m\u001b[m\u001b[1m  0.0 \u001b[m\u001b[mni,\u001b[m\u001b[m\u001b[1m 37.5 \u001b[m\u001b[mid,\u001b[m\u001b[m\u001b[1m  0.0 \u001b[m\u001b[mwa,\u001b[m\u001b[m\u001b[1m  0.0 \u001b[m\u001b[mhi,\u001b[m\u001b[m\u001b[1m  0.0 \u001b[m\u001b[msi,\u001b[m\u001b[m\u001b[1m  0.0 \u001b[m\u001b[mst\u001b[m\u001b[m\u001b[m\u001b[m\u001b[K\n",
            "MiB Mem :\u001b[m\u001b[m\u001b[1m  12979.0 \u001b[m\u001b[mtotal,\u001b[m\u001b[m\u001b[1m   8790.6 \u001b[m\u001b[mfree,\u001b[m\u001b[m\u001b[1m    881.1 \u001b[m\u001b[mused,\u001b[m\u001b[m\u001b[1m   3307.3 \u001b[m\u001b[mbuff/cache\u001b[m\u001b[m\u001b[m\u001b[m\u001b[K\n",
            "MiB Swap:\u001b[m\u001b[m\u001b[1m      0.0 \u001b[m\u001b[mtotal,\u001b[m\u001b[m\u001b[1m      0.0 \u001b[m\u001b[mfree,\u001b[m\u001b[m\u001b[1m      0.0 \u001b[m\u001b[mused.\u001b[m\u001b[m\u001b[1m  11780.5 \u001b[m\u001b[mavail Mem \u001b[m\u001b[m\u001b[m\u001b[m\u001b[K\n",
            "\u001b[K\n",
            "\u001b[7m    PID USER      PR  NI    VIRT    RES    SHR S  %CPU  %MEM     TIME+ COMMAND                      \u001b[m\u001b[m\u001b[K\n",
            "\u001b[m    385 root      20   0 1139688 130112  28208 S   6.7   1.0   0:05.74 python3                      \u001b[m\u001b[m\u001b[K\n",
            "\u001b[m      1 root      20   0    1076      8      0 S   0.0   0.0   0:00.03 docker-init                  \u001b[m\u001b[m\u001b[K\n",
            "\u001b[m      7 root      20   0  907036  65024  38968 S   0.0   0.5   0:01.63 node                         \u001b[m\u001b[m\u001b[K\n",
            "\u001b[m     15 root      20   0    7376   3508   3212 S   0.0   0.0   0:00.40 oom_monitor.sh               \u001b[m\u001b[m\u001b[K\n",
            "\u001b[m     17 root      20   0    7376   1828   1544 S   0.0   0.0   0:00.00 run.sh                       \u001b[m\u001b[m\u001b[K\n",
            "\u001b[m     19 root      20   0 1237328  14136   9040 S   0.0   0.1   0:00.28 kernel_manager_              \u001b[m\u001b[m\u001b[K\n",
            "\u001b[m     41 root      20   0    5808   1040    948 S   0.0   0.0   0:00.04 tail                         \u001b[m\u001b[m\u001b[K\n",
            "\u001b[m     47 root      20   0    5808   1000    904 S   0.0   0.0   0:00.04 tail                         \u001b[m\u001b[m\u001b[K\n",
            "\u001b[m     68 root      20   0       0      0      0 Z   0.0   0.0   0:15.75 python3                      \u001b[m\u001b[m\u001b[K\n",
            "\u001b[m     69 root      20   0   66780  51924  18364 S   0.0   0.4   0:00.79 colab-fileshim.              \u001b[m\u001b[m\u001b[K\n",
            "\u001b[m     86 root      20   0  365732 119952  27784 S   0.0   0.9   0:05.13 jupyter-noteboo              \u001b[m\u001b[m\u001b[K\n",
            "\u001b[m     87 root      20   0 1229168   6368   3560 S   0.0   0.0   0:00.14 dap_multiplexer              \u001b[m\u001b[m\u001b[K\n",
            "\u001b[m    417 root      20   0  542240  17780   5784 S   0.0   0.1   0:00.89 python3                      \u001b[m\u001b[m\u001b[K\n",
            "\u001b[m   2920 root      20   0 1240976  20916  11604 S   0.0   0.2   0:00.13 language_servic              \u001b[m\u001b[m\u001b[K\n",
            "\u001b[m   2926 root      20   0  938556 189664  39172 S   0.0   1.4   0:07.51 node                         \u001b[m\u001b[m\u001b[K\n",
            "\u001b[m   3082 root      20   0    5776   1020    928 S   0.0   0.0   0:00.00 sleep                        \u001b[m\u001b[m\u001b[K\n",
            "\u001b[m\u001b[1m   3083 root      20   0   10352   3520   3164 R   0.0   0.0   0:00.00 top                          \u001b[m\u001b[m\u001b[K\u001b[H\u001b[mtop - 20:24:49 up 12 min,  0 users,  load average: 0.54, 0.38, 0.26\u001b[m\u001b[m\u001b[m\u001b[m\u001b[K\n",
            "\n",
            "%Cpu(s):\u001b[m\u001b[m\u001b[1m  6.0 \u001b[m\u001b[mus,\u001b[m\u001b[m\u001b[1m  7.6 \u001b[m\u001b[msy,\u001b[m\u001b[m\u001b[1m  0.0 \u001b[m\u001b[mni,\u001b[m\u001b[m\u001b[1m 86.1 \u001b[m\u001b[mid,\u001b[m\u001b[m\u001b[1m  0.2 \u001b[m\u001b[mwa,\u001b[m\u001b[m\u001b[1m  0.0 \u001b[m\u001b[mhi,\u001b[m\u001b[m\u001b[1m  0.2 \u001b[m\u001b[msi,\u001b[m\u001b[m\u001b[1m  0.0 \u001b[m\u001b[mst\u001b[m\u001b[m\u001b[m\u001b[m\u001b[K\n",
            "MiB Mem :\u001b[m\u001b[m\u001b[1m  12979.0 \u001b[m\u001b[mtotal,\u001b[m\u001b[m\u001b[1m   8819.7 \u001b[m\u001b[mfree,\u001b[m\u001b[m\u001b[1m    851.8 \u001b[m\u001b[mused,\u001b[m\u001b[m\u001b[1m   3307.4 \u001b[m\u001b[mbuff/cache\u001b[m\u001b[m\u001b[m\u001b[m\u001b[K\n",
            "MiB Swap:\u001b[m\u001b[m\u001b[1m      0.0 \u001b[m\u001b[mtotal,\u001b[m\u001b[m\u001b[1m      0.0 \u001b[m\u001b[mfree,\u001b[m\u001b[m\u001b[1m      0.0 \u001b[m\u001b[mused.\u001b[m\u001b[m\u001b[1m  11809.7 \u001b[m\u001b[mavail Mem \u001b[m\u001b[m\u001b[m\u001b[m\u001b[K\n",
            "\u001b[K\n",
            "\n",
            "\u001b[m    417 root      20   0  542240  17780   5784 S   0.7   0.1   0:00.91 python3                      \u001b[m\u001b[m\u001b[K\n",
            "\u001b[m      7 root      20   0  907036  64424  38968 S   0.3   0.5   0:01.64 node                         \u001b[m\u001b[m\u001b[K\n",
            "\u001b[m     15 root      20   0    7376   3508   3212 S   0.3   0.0   0:00.41 oom_monitor.sh               \u001b[m\u001b[m\u001b[K\n",
            "\u001b[m     87 root      20   0 1229168   6836   3560 S   0.3   0.1   0:00.15 dap_multiplexer              \u001b[m\u001b[m\u001b[K\n",
            "\u001b[m    385 root      20   0 1139688 130112  28208 S   0.3   1.0   0:05.75 python3                      \u001b[m\u001b[m\u001b[K\n",
            "\u001b[m      1 root      20   0    1076      8      0 S   0.0   0.0   0:00.03 docker-init                  \u001b[m\u001b[m\u001b[K\n",
            "\u001b[m     17 root      20   0    7376   1828   1544 S   0.0   0.0   0:00.00 run.sh                       \u001b[m\u001b[m\u001b[K\n",
            "\u001b[m     19 root      20   0 1237328  14136   9040 S   0.0   0.1   0:00.28 kernel_manager_              \u001b[m\u001b[m\u001b[K\n",
            "\u001b[m     41 root      20   0    5808   1040    948 S   0.0   0.0   0:00.04 tail                         \u001b[m\u001b[m\u001b[K\n",
            "\u001b[m     47 root      20   0    5808   1000    904 S   0.0   0.0   0:00.04 tail                         \u001b[m\u001b[m\u001b[K\n",
            "\u001b[m     68 root      20   0       0      0      0 Z   0.0   0.0   0:15.75 python3                      \u001b[m\u001b[m\u001b[K\n",
            "\u001b[m     69 root      20   0   66780  51924  18364 S   0.0   0.4   0:00.79 colab-fileshim.              \u001b[m\u001b[m\u001b[K\n",
            "\u001b[m     86 root      20   0  365732 119952  27784 S   0.0   0.9   0:05.13 jupyter-noteboo              \u001b[m\u001b[m\u001b[K\n",
            "\n",
            "\n",
            "\u001b[m\u001b[1m   3083 root      20   0   10352   3920   3340 R   0.0   0.0   0:00.00 top                          \u001b[m\u001b[m\u001b[K\n",
            "\u001b[m   3095 root      20   0    5776   1048    952 S   0.0   0.0   0:00.00 sleep                        \u001b[m\u001b[m\u001b[K\u001b[H\u001b[mtop - 20:24:52 up 12 min,  0 users,  load average: 0.49, 0.38, 0.26\u001b[m\u001b[m\u001b[m\u001b[m\u001b[K\n",
            "\n",
            "%Cpu(s):\u001b[m\u001b[m\u001b[1m  1.3 \u001b[m\u001b[mus,\u001b[m\u001b[m\u001b[1m  1.2 \u001b[m\u001b[msy,\u001b[m\u001b[m\u001b[1m  0.0 \u001b[m\u001b[mni,\u001b[m\u001b[m\u001b[1m 97.3 \u001b[m\u001b[mid,\u001b[m\u001b[m\u001b[1m  0.2 \u001b[m\u001b[mwa,\u001b[m\u001b[m\u001b[1m  0.0 \u001b[m\u001b[mhi,\u001b[m\u001b[m\u001b[1m  0.0 \u001b[m\u001b[msi,\u001b[m\u001b[m\u001b[1m  0.0 \u001b[m\u001b[mst\u001b[m\u001b[m\u001b[m\u001b[m\u001b[K\n",
            "MiB Mem :\u001b[m\u001b[m\u001b[1m  12979.0 \u001b[m\u001b[mtotal,\u001b[m\u001b[m\u001b[1m   8818.7 \u001b[m\u001b[mfree,\u001b[m\u001b[m\u001b[1m    852.7 \u001b[m\u001b[mused,\u001b[m\u001b[m\u001b[1m   3307.5 \u001b[m\u001b[mbuff/cache\u001b[m\u001b[m\u001b[m\u001b[m\u001b[K\n",
            "MiB Swap:\u001b[m\u001b[m\u001b[1m      0.0 \u001b[m\u001b[mtotal,\u001b[m\u001b[m\u001b[1m      0.0 \u001b[m\u001b[mfree,\u001b[m\u001b[m\u001b[1m      0.0 \u001b[m\u001b[mused.\u001b[m\u001b[m\u001b[1m  11808.8 \u001b[m\u001b[mavail Mem \u001b[m\u001b[m\u001b[m\u001b[m\u001b[K\n",
            "\u001b[K\n",
            "\n",
            "\u001b[m    385 root      20   0 1139688 130112  28208 S   0.7   1.0   0:05.77 python3                      \u001b[m\u001b[m\u001b[K\n",
            "\u001b[m      7 root      20   0  907036  64684  38968 S   0.3   0.5   0:01.65 node                         \u001b[m\u001b[m\u001b[K\n",
            "\u001b[m     87 root      20   0 1229744   7480   3564 S   0.3   0.1   0:00.16 dap_multiplexer              \u001b[m\u001b[m\u001b[K\n",
            "\u001b[m      1 root      20   0    1076      8      0 S   0.0   0.0   0:00.03 docker-init                  \u001b[m\u001b[m\u001b[K\n",
            "\u001b[m     15 root      20   0    7376   3508   3212 S   0.0   0.0   0:00.41 oom_monitor.sh               \u001b[m\u001b[m\u001b[K\n",
            "\u001b[m     17 root      20   0    7376   1828   1544 S   0.0   0.0   0:00.00 run.sh                       \u001b[m\u001b[m\u001b[K\n",
            "\u001b[m     19 root      20   0 1237328  14136   9040 S   0.0   0.1   0:00.28 kernel_manager_              \u001b[m\u001b[m\u001b[K\n",
            "\u001b[m     41 root      20   0    5808   1040    948 S   0.0   0.0   0:00.04 tail                         \u001b[m\u001b[m\u001b[K\n",
            "\u001b[m     47 root      20   0    5808   1000    904 S   0.0   0.0   0:00.04 tail                         \u001b[m\u001b[m\u001b[K\n",
            "\u001b[m     68 root      20   0       0      0      0 Z   0.0   0.0   0:15.75 python3                      \u001b[m\u001b[m\u001b[K\n",
            "\u001b[m     69 root      20   0   66780  51924  18364 S   0.0   0.4   0:00.79 colab-fileshim.              \u001b[m\u001b[m\u001b[K\n",
            "\u001b[m     86 root      20   0  365732 119952  27784 S   0.0   0.9   0:05.13 jupyter-noteboo              \u001b[m\u001b[m\u001b[K\n",
            "\u001b[m    417 root      20   0  542240  18000   5784 S   0.0   0.1   0:00.91 python3                      \u001b[m\u001b[m\u001b[K\n",
            "\n",
            "\n",
            "\n",
            "\u001b[m   3107 root      20   0    5776    996    908 S   0.0   0.0   0:00.00 sleep                        \u001b[m\u001b[m\u001b[K\u001b[H\u001b[mtop - 20:24:55 up 12 min,  0 users,  load average: 0.45, 0.37, 0.26\u001b[m\u001b[m\u001b[m\u001b[m\u001b[K\n",
            "\n",
            "%Cpu(s):\u001b[m\u001b[m\u001b[1m  1.5 \u001b[m\u001b[mus,\u001b[m\u001b[m\u001b[1m  1.5 \u001b[m\u001b[msy,\u001b[m\u001b[m\u001b[1m  0.0 \u001b[m\u001b[mni,\u001b[m\u001b[m\u001b[1m 96.3 \u001b[m\u001b[mid,\u001b[m\u001b[m\u001b[1m  0.2 \u001b[m\u001b[mwa,\u001b[m\u001b[m\u001b[1m  0.0 \u001b[m\u001b[mhi,\u001b[m\u001b[m\u001b[1m  0.3 \u001b[m\u001b[msi,\u001b[m\u001b[m\u001b[1m  0.2 \u001b[m\u001b[mst\u001b[m\u001b[m\u001b[m\u001b[m\u001b[K\n",
            "MiB Mem :\u001b[m\u001b[m\u001b[1m  12979.0 \u001b[m\u001b[mtotal,\u001b[m\u001b[m\u001b[1m   8818.4 \u001b[m\u001b[mfree,\u001b[m\u001b[m\u001b[1m    852.9 \u001b[m\u001b[mused,\u001b[m\u001b[m\u001b[1m   3307.6 \u001b[m\u001b[mbuff/cache\u001b[m\u001b[m\u001b[m\u001b[m\u001b[K\n",
            "MiB Swap:\u001b[m\u001b[m\u001b[1m      0.0 \u001b[m\u001b[mtotal,\u001b[m\u001b[m\u001b[1m      0.0 \u001b[m\u001b[mfree,\u001b[m\u001b[m\u001b[1m      0.0 \u001b[m\u001b[mused.\u001b[m\u001b[m\u001b[1m  11808.6 \u001b[m\u001b[mavail Mem \u001b[m\u001b[m\u001b[m\u001b[m\u001b[K\n",
            "\u001b[K\n",
            "\n",
            "\u001b[m    385 root      20   0 1139688 130112  28208 S   0.7   1.0   0:05.79 python3                      \u001b[m\u001b[m\u001b[K\n",
            "\u001b[m     86 root      20   0  365732 119952  27784 S   0.3   0.9   0:05.14 jupyter-noteboo              \u001b[m\u001b[m\u001b[K\n",
            "\u001b[m    417 root      20   0  542240  18000   5784 S   0.3   0.1   0:00.92 python3                      \u001b[m\u001b[m\u001b[K\n",
            "\n",
            "\u001b[m      7 root      20   0  907036  64684  38968 S   0.0   0.5   0:01.65 node                         \u001b[m\u001b[m\u001b[K\n",
            "\u001b[m     15 root      20   0    7376   3508   3212 S   0.0   0.0   0:00.41 oom_monitor.sh               \u001b[m\u001b[m\u001b[K\n",
            "\u001b[m     17 root      20   0    7376   1828   1544 S   0.0   0.0   0:00.00 run.sh                       \u001b[m\u001b[m\u001b[K\n",
            "\u001b[m     19 root      20   0 1237328  14392   9044 S   0.0   0.1   0:00.28 kernel_manager_              \u001b[m\u001b[m\u001b[K\n",
            "\u001b[m     41 root      20   0    5808   1040    948 S   0.0   0.0   0:00.04 tail                         \u001b[m\u001b[m\u001b[K\n",
            "\u001b[m     47 root      20   0    5808   1000    904 S   0.0   0.0   0:00.04 tail                         \u001b[m\u001b[m\u001b[K\n",
            "\u001b[m     68 root      20   0       0      0      0 Z   0.0   0.0   0:15.75 python3                      \u001b[m\u001b[m\u001b[K\n",
            "\u001b[m     69 root      20   0   66780  51924  18364 S   0.0   0.4   0:00.79 colab-fileshim.              \u001b[m\u001b[m\u001b[K\n",
            "\u001b[m     87 root      20   0 1229744   7900   3564 S   0.0   0.1   0:00.16 dap_multiplexer              \u001b[m\u001b[m\u001b[K\n",
            "\n",
            "\n",
            "\n",
            "\u001b[m   3119 root      20   0    5776    988    892 S   0.0   0.0   0:00.00 sleep                        \u001b[m\u001b[m\u001b[K\u001b[H\u001b[mtop - 20:24:58 up 12 min,  0 users,  load average: 0.45, 0.37, 0.26\u001b[m\u001b[m\u001b[m\u001b[m\u001b[K\n",
            "\n",
            "%Cpu(s):\u001b[m\u001b[m\u001b[1m 19.6 \u001b[m\u001b[mus,\u001b[m\u001b[m\u001b[1m  9.4 \u001b[m\u001b[msy,\u001b[m\u001b[m\u001b[1m  0.0 \u001b[m\u001b[mni,\u001b[m\u001b[m\u001b[1m 70.9 \u001b[m\u001b[mid,\u001b[m\u001b[m\u001b[1m  0.0 \u001b[m\u001b[mwa,\u001b[m\u001b[m\u001b[1m  0.0 \u001b[m\u001b[mhi,\u001b[m\u001b[m\u001b[1m  0.2 \u001b[m\u001b[msi,\u001b[m\u001b[m\u001b[1m  0.0 \u001b[m\u001b[mst\u001b[m\u001b[m\u001b[m\u001b[m\u001b[K\n",
            "MiB Mem :\u001b[m\u001b[m\u001b[1m  12979.0 \u001b[m\u001b[mtotal,\u001b[m\u001b[m\u001b[1m   8787.9 \u001b[m\u001b[mfree,\u001b[m\u001b[m\u001b[1m    883.4 \u001b[m\u001b[mused,\u001b[m\u001b[m\u001b[1m   3307.6 \u001b[m\u001b[mbuff/cache\u001b[m\u001b[m\u001b[m\u001b[m\u001b[K\n",
            "MiB Swap:\u001b[m\u001b[m\u001b[1m      0.0 \u001b[m\u001b[mtotal,\u001b[m\u001b[m\u001b[1m      0.0 \u001b[m\u001b[mfree,\u001b[m\u001b[m\u001b[1m      0.0 \u001b[m\u001b[mused.\u001b[m\u001b[m\u001b[1m  11778.1 \u001b[m\u001b[mavail Mem \u001b[m\u001b[m\u001b[m\u001b[m\u001b[K\n",
            "\u001b[K\n",
            "\n",
            "\u001b[m    385 root      20   0 1139688 130112  28208 S   1.0   1.0   0:05.82 python3                      \u001b[m\u001b[m\u001b[K\n",
            "\u001b[m      7 root      20   0  907036  64940  38968 S   0.3   0.5   0:01.66 node                         \u001b[m\u001b[m\u001b[K\n",
            "\u001b[m     87 root      20   0 1229744   7900   3564 S   0.3   0.1   0:00.17 dap_multiplexer              \u001b[m\u001b[m\u001b[K\n",
            "\u001b[m    417 root      20   0  542240  18000   5784 S   0.3   0.1   0:00.93 python3                      \u001b[m\u001b[m\u001b[K\n",
            "\u001b[m      1 root      20   0    1076      8      0 S   0.0   0.0   0:00.03 docker-init                  \u001b[m\u001b[m\u001b[K\n",
            "\n",
            "\n",
            "\n",
            "\n",
            "\n",
            "\n",
            "\n",
            "\u001b[m     86 root      20   0  365732 119952  27784 S   0.0   0.9   0:05.14 jupyter-noteboo              \u001b[m\u001b[m\u001b[K\n",
            "\n",
            "\n",
            "\n",
            "\u001b[m   3131 root      20   0    5776   1012    924 S   0.0   0.0   0:00.00 sleep                        \u001b[m\u001b[m\u001b[K\u001b[H\u001b[mtop - 20:25:01 up 12 min,  0 users,  load average: 0.42, 0.36, 0.25\u001b[m\u001b[m\u001b[m\u001b[m\u001b[K\n",
            "\n",
            "%Cpu(s):\u001b[m\u001b[m\u001b[1m  7.5 \u001b[m\u001b[mus,\u001b[m\u001b[m\u001b[1m  5.3 \u001b[m\u001b[msy,\u001b[m\u001b[m\u001b[1m  0.0 \u001b[m\u001b[mni,\u001b[m\u001b[m\u001b[1m 86.8 \u001b[m\u001b[mid,\u001b[m\u001b[m\u001b[1m  0.2 \u001b[m\u001b[mwa,\u001b[m\u001b[m\u001b[1m  0.0 \u001b[m\u001b[mhi,\u001b[m\u001b[m\u001b[1m  0.2 \u001b[m\u001b[msi,\u001b[m\u001b[m\u001b[1m  0.0 \u001b[m\u001b[mst\u001b[m\u001b[m\u001b[m\u001b[m\u001b[K\n",
            "MiB Mem :\u001b[m\u001b[m\u001b[1m  12979.0 \u001b[m\u001b[mtotal,\u001b[m\u001b[m\u001b[1m   8836.6 \u001b[m\u001b[mfree,\u001b[m\u001b[m\u001b[1m    834.7 \u001b[m\u001b[mused,\u001b[m\u001b[m\u001b[1m   3307.7 \u001b[m\u001b[mbuff/cache\u001b[m\u001b[m\u001b[m\u001b[m\u001b[K\n",
            "MiB Swap:\u001b[m\u001b[m\u001b[1m      0.0 \u001b[m\u001b[mtotal,\u001b[m\u001b[m\u001b[1m      0.0 \u001b[m\u001b[mfree,\u001b[m\u001b[m\u001b[1m      0.0 \u001b[m\u001b[mused.\u001b[m\u001b[m\u001b[1m  11826.9 \u001b[m\u001b[mavail Mem \u001b[m\u001b[m\u001b[m\u001b[m\u001b[K\n",
            "\u001b[K\n",
            "\n",
            "\u001b[m   2926 root      20   0  934204 152740  39172 S   9.3   1.1   0:07.79 node                         \u001b[m\u001b[m\u001b[K\n",
            "\u001b[m    385 root      20   0 1139688 130112  28208 S   0.7   1.0   0:05.84 python3                      \u001b[m\u001b[m\u001b[K\n",
            "\u001b[m     19 root      20   0 1237328  14392   9044 S   0.3   0.1   0:00.29 kernel_manager_              \u001b[m\u001b[m\u001b[K\n",
            "\u001b[m     86 root      20   0  365732 119952  27784 S   0.3   0.9   0:05.15 jupyter-noteboo              \u001b[m\u001b[m\u001b[K\n",
            "\u001b[m    417 root      20   0  542240  18000   5784 S   0.3   0.1   0:00.94 python3                      \u001b[m\u001b[m\u001b[K\n",
            "\u001b[m      1 root      20   0    1076      8      0 S   0.0   0.0   0:00.03 docker-init                  \u001b[m\u001b[m\u001b[K\n",
            "\u001b[m      7 root      20   0  907036  64940  38968 S   0.0   0.5   0:01.66 node                         \u001b[m\u001b[m\u001b[K\n",
            "\u001b[m     15 root      20   0    7376   3508   3212 S   0.0   0.0   0:00.41 oom_monitor.sh               \u001b[m\u001b[m\u001b[K\n",
            "\u001b[m     17 root      20   0    7376   1828   1544 S   0.0   0.0   0:00.00 run.sh                       \u001b[m\u001b[m\u001b[K\n",
            "\u001b[m     41 root      20   0    5808   1040    948 S   0.0   0.0   0:00.04 tail                         \u001b[m\u001b[m\u001b[K\n",
            "\u001b[m     47 root      20   0    5808   1000    904 S   0.0   0.0   0:00.04 tail                         \u001b[m\u001b[m\u001b[K\n",
            "\u001b[m     68 root      20   0       0      0      0 Z   0.0   0.0   0:15.75 python3                      \u001b[m\u001b[m\u001b[K\n",
            "\u001b[m     69 root      20   0   66780  51924  18364 S   0.0   0.4   0:00.79 colab-fileshim.              \u001b[m\u001b[m\u001b[K\n",
            "\u001b[m     87 root      20   0 1229744   8388   3564 S   0.0   0.1   0:00.17 dap_multiplexer              \u001b[m\u001b[m\u001b[K\n",
            "\u001b[m   2920 root      20   0 1240976  20916  11604 S   0.0   0.2   0:00.13 language_servic              \u001b[m\u001b[m\u001b[K\n",
            "\n",
            "\u001b[m   3143 root      20   0    5776    980    892 S   0.0   0.0   0:00.00 sleep                        \u001b[m\u001b[m\u001b[K\u001b[H\u001b[mtop - 20:25:04 up 12 min,  0 users,  load average: 0.42, 0.36, 0.25\u001b[m\u001b[m\u001b[m\u001b[m\u001b[K\n",
            "\n",
            "%Cpu(s):\u001b[m\u001b[m\u001b[1m  1.3 \u001b[m\u001b[mus,\u001b[m\u001b[m\u001b[1m  1.2 \u001b[m\u001b[msy,\u001b[m\u001b[m\u001b[1m  0.0 \u001b[m\u001b[mni,\u001b[m\u001b[m\u001b[1m 97.2 \u001b[m\u001b[mid,\u001b[m\u001b[m\u001b[1m  0.2 \u001b[m\u001b[mwa,\u001b[m\u001b[m\u001b[1m  0.0 \u001b[m\u001b[mhi,\u001b[m\u001b[m\u001b[1m  0.2 \u001b[m\u001b[msi,\u001b[m\u001b[m\u001b[1m  0.0 \u001b[m\u001b[mst\u001b[m\u001b[m\u001b[m\u001b[m\u001b[K\n",
            "MiB Mem :\u001b[m\u001b[m\u001b[1m  12979.0 \u001b[m\u001b[mtotal,\u001b[m\u001b[m\u001b[1m   8836.3 \u001b[m\u001b[mfree,\u001b[m\u001b[m\u001b[1m    834.9 \u001b[m\u001b[mused,\u001b[m\u001b[m\u001b[1m   3307.7 \u001b[m\u001b[mbuff/cache\u001b[m\u001b[m\u001b[m\u001b[m\u001b[K\n",
            "MiB Swap:\u001b[m\u001b[m\u001b[1m      0.0 \u001b[m\u001b[mtotal,\u001b[m\u001b[m\u001b[1m      0.0 \u001b[m\u001b[mfree,\u001b[m\u001b[m\u001b[1m      0.0 \u001b[m\u001b[mused.\u001b[m\u001b[m\u001b[1m  11826.6 \u001b[m\u001b[mavail Mem \u001b[m\u001b[m\u001b[m\u001b[m\u001b[K\n",
            "\u001b[K\n",
            "\n",
            "\u001b[m    385 root      20   0 1139688 130112  28208 S   0.7   1.0   0:05.86 python3                      \u001b[m\u001b[m\u001b[K\n",
            "\u001b[m      7 root      20   0  907292  64328  38968 S   0.3   0.5   0:01.67 node                         \u001b[m\u001b[m\u001b[K\n",
            "\u001b[m    417 root      20   0  542240  18000   5784 S   0.3   0.1   0:00.95 python3                      \u001b[m\u001b[m\u001b[K\n",
            "\u001b[m      1 root      20   0    1076      8      0 S   0.0   0.0   0:00.03 docker-init                  \u001b[m\u001b[m\u001b[K\n",
            "\u001b[m     15 root      20   0    7376   3508   3212 S   0.0   0.0   0:00.41 oom_monitor.sh               \u001b[m\u001b[m\u001b[K\n",
            "\u001b[m     17 root      20   0    7376   1828   1544 S   0.0   0.0   0:00.00 run.sh                       \u001b[m\u001b[m\u001b[K\n",
            "\u001b[m     19 root      20   0 1237328  14652   9044 S   0.0   0.1   0:00.29 kernel_manager_              \u001b[m\u001b[m\u001b[K\n",
            "\u001b[m     41 root      20   0    5808   1040    948 S   0.0   0.0   0:00.04 tail                         \u001b[m\u001b[m\u001b[K\n",
            "\u001b[m     47 root      20   0    5808   1000    904 S   0.0   0.0   0:00.04 tail                         \u001b[m\u001b[m\u001b[K\n",
            "\u001b[m     68 root      20   0       0      0      0 Z   0.0   0.0   0:15.75 python3                      \u001b[m\u001b[m\u001b[K\n",
            "\u001b[m     69 root      20   0   66780  51924  18364 S   0.0   0.4   0:00.79 colab-fileshim.              \u001b[m\u001b[m\u001b[K\n",
            "\u001b[m     86 root      20   0  365732 119952  27784 S   0.0   0.9   0:05.15 jupyter-noteboo              \u001b[m\u001b[m\u001b[K\n",
            "\u001b[m     87 root      20   0 1229744   8388   3564 S   0.0   0.1   0:00.17 dap_multiplexer              \u001b[m\u001b[m\u001b[K\n",
            "\u001b[m   2920 root      20   0 1240976  20916  11604 S   0.0   0.2   0:00.13 language_servic              \u001b[m\u001b[m\u001b[K\n",
            "\u001b[m   2926 root      20   0  934204 152740  39172 S   0.0   1.1   0:07.79 node                         \u001b[m\u001b[m\u001b[K\n",
            "\n",
            "\u001b[m   3155 root      20   0    5776   1000    908 S   0.0   0.0   0:00.00 sleep                        \u001b[m\u001b[m\u001b[K\u001b[H\u001b[mtop - 20:25:07 up 12 min,  0 users,  load average: 0.38, 0.36, 0.25\u001b[m\u001b[m\u001b[m\u001b[m\u001b[K\n",
            "\n",
            "%Cpu(s):\u001b[m\u001b[m\u001b[1m  1.3 \u001b[m\u001b[mus,\u001b[m\u001b[m\u001b[1m  0.8 \u001b[m\u001b[msy,\u001b[m\u001b[m\u001b[1m  0.0 \u001b[m\u001b[mni,\u001b[m\u001b[m\u001b[1m 97.5 \u001b[m\u001b[mid,\u001b[m\u001b[m\u001b[1m  0.2 \u001b[m\u001b[mwa,\u001b[m\u001b[m\u001b[1m  0.0 \u001b[m\u001b[mhi,\u001b[m\u001b[m\u001b[1m  0.2 \u001b[m\u001b[msi,\u001b[m\u001b[m\u001b[1m  0.0 \u001b[m\u001b[mst\u001b[m\u001b[m\u001b[m\u001b[m\u001b[K\n",
            "MiB Mem :\u001b[m\u001b[m\u001b[1m  12979.0 \u001b[m\u001b[mtotal,\u001b[m\u001b[m\u001b[1m   8836.1 \u001b[m\u001b[mfree,\u001b[m\u001b[m\u001b[1m    835.1 \u001b[m\u001b[mused,\u001b[m\u001b[m\u001b[1m   3307.7 \u001b[m\u001b[mbuff/cache\u001b[m\u001b[m\u001b[m\u001b[m\u001b[K\n",
            "MiB Swap:\u001b[m\u001b[m\u001b[1m      0.0 \u001b[m\u001b[mtotal,\u001b[m\u001b[m\u001b[1m      0.0 \u001b[m\u001b[mfree,\u001b[m\u001b[m\u001b[1m      0.0 \u001b[m\u001b[mused.\u001b[m\u001b[m\u001b[1m  11826.4 \u001b[m\u001b[mavail Mem \u001b[m\u001b[m\u001b[m\u001b[m\u001b[K\n",
            "\u001b[K\n",
            "\n",
            "\u001b[m     15 root      20   0    7376   3508   3212 S   0.7   0.0   0:00.43 oom_monitor.sh               \u001b[m\u001b[m\u001b[K\n",
            "\u001b[m    385 root      20   0 1139688 130112  28208 S   0.7   1.0   0:05.88 python3                      \u001b[m\u001b[m\u001b[K\n",
            "\u001b[m     87 root      20   0 1229744   8388   3564 S   0.3   0.1   0:00.18 dap_multiplexer              \u001b[m\u001b[m\u001b[K\n",
            "\u001b[m    417 root      20   0  542240  18000   5784 S   0.3   0.1   0:00.96 python3                      \u001b[m\u001b[m\u001b[K\n",
            "\u001b[m      1 root      20   0    1076      8      0 S   0.0   0.0   0:00.03 docker-init                  \u001b[m\u001b[m\u001b[K\n",
            "\u001b[m      7 root      20   0  907292  64328  38968 S   0.0   0.5   0:01.67 node                         \u001b[m\u001b[m\u001b[K\n",
            "\u001b[m     17 root      20   0    7376   1828   1544 S   0.0   0.0   0:00.00 run.sh                       \u001b[m\u001b[m\u001b[K\n",
            "\u001b[m     19 root      20   0 1237328  14912   9044 S   0.0   0.1   0:00.29 kernel_manager_              \u001b[m\u001b[m\u001b[K\n",
            "\u001b[m     41 root      20   0    5808   1040    948 S   0.0   0.0   0:00.04 tail                         \u001b[m\u001b[m\u001b[K\n",
            "\u001b[m     47 root      20   0    5808   1000    904 S   0.0   0.0   0:00.04 tail                         \u001b[m\u001b[m\u001b[K\n",
            "\u001b[m     68 root      20   0       0      0      0 Z   0.0   0.0   0:15.75 python3                      \u001b[m\u001b[m\u001b[K\n",
            "\u001b[m     69 root      20   0   66780  51924  18364 S   0.0   0.4   0:00.79 colab-fileshim.              \u001b[m\u001b[m\u001b[K\n",
            "\u001b[m     86 root      20   0  365732 119952  27784 S   0.0   0.9   0:05.15 jupyter-noteboo              \u001b[m\u001b[m\u001b[K\n",
            "\n",
            "\n",
            "\n",
            "\u001b[m   3167 root      20   0    5776    992    904 S   0.0   0.0   0:00.00 sleep                        \u001b[m\u001b[m\u001b[K\u001b[?1l\u001b>\u001b[25;1H\n",
            "\u001b[K"
          ]
        }
      ]
    },
    {
      "cell_type": "markdown",
      "source": [
        "# How to Run Python Code"
      ],
      "metadata": {
        "id": "tvsITYL9aCnb"
      }
    },
    {
      "cell_type": "markdown",
      "source": [
        "### The Python Interpreter\n",
        "\n",
        "The most basic way to execute Python code is line by line within the *Python interpreter*.\n",
        "The Python interpreter can be started by installing the Python language (see the previous section) and typing ``python`` at the command prompt (look for the Terminal on Mac OS X and Unix/Linux systems, or the Command Prompt application in Windows):\n",
        "```\n",
        "$ python\n",
        "Python 3.5.1 |Continuum Analytics, Inc.| (default, Dec  7 2015, 11:24:55)\n",
        "Type \"help\", \"copyright\", \"credits\" or \"license\" for more information.\n",
        ">>>\n",
        "```\n",
        "With the interpreter running, you can begin to type and execute code snippets.\n",
        "Here we'll use the interpreter as a simple calculator, performing calculations and assigning values to variables:\n",
        "``` python\n",
        ">>> 1 + 1\n",
        "2\n",
        ">>> x = 5\n",
        ">>> x * 3\n",
        "15\n",
        "```\n",
        "\n",
        "The interpreter makes it very convenient to try out small snippets of Python code and to experiment with short sequences of operations."
      ],
      "metadata": {
        "id": "BdkIGbIUaNz6"
      }
    },
    {
      "cell_type": "markdown",
      "source": [
        "### Self-contained Python scripts\n",
        "\n",
        "Running Python snippets line by line is useful in some cases, but for more complicated programs it is more convenient to save code to file, and execute it all at once.\n",
        "By convention, Python scripts are saved in files with a *.py* extension.\n",
        "For example, let's create a script called *test.py* which contains the following:\n",
        "``` python\n",
        "# file: test.py\n",
        "print(\"Running test.py\")\n",
        "x = 5\n",
        "print(\"Result is\", 3 * x)\n",
        "```\n",
        "To run this file, we make sure it is in the current directory and type ``python`` *``filename``* at the command prompt:\n",
        "```\n",
        "$ python test.py\n",
        "Running test.py\n",
        "Result is 15\n",
        "```\n",
        "For more complicated programs, creating self-contained scripts like this one is a must."
      ],
      "metadata": {
        "id": "jML-SsNUaRvJ"
      }
    },
    {
      "cell_type": "code",
      "source": [
        "!python test.py"
      ],
      "metadata": {
        "id": "EumarJzVaT4q",
        "colab": {
          "base_uri": "https://localhost:8080/"
        },
        "outputId": "ac010d2e-08d5-42b9-d769-02bcb4c66034"
      },
      "execution_count": null,
      "outputs": [
        {
          "output_type": "stream",
          "name": "stdout",
          "text": [
            "python3: can't open file '/content/test.py': [Errno 2] No such file or directory\n"
          ]
        }
      ]
    },
    {
      "cell_type": "code",
      "source": [
        "ls"
      ],
      "metadata": {
        "colab": {
          "base_uri": "https://localhost:8080/"
        },
        "id": "m1VYFmgYWsd8",
        "outputId": "4ff8b6a6-9615-4c27-bfcb-1fd8d4b43b56"
      },
      "execution_count": null,
      "outputs": [
        {
          "output_type": "stream",
          "name": "stdout",
          "text": [
            "'CSCI3360 Data Science I Spring 2025 41607_GradesExport_2025-01-13-19-54.csv'   \u001b[0m\u001b[01;34msample_data\u001b[0m/\n"
          ]
        }
      ]
    },
    {
      "cell_type": "markdown",
      "source": [
        "### The Jupyter notebook\n",
        "\n",
        "A useful hybrid of the interactive terminal and the self-contained script is the *Jupyter notebook*, a document format that allows executable code, formatted text, graphics, and even interactive features to be combined into a single document.\n",
        "Though the notebook began as a Python-only format, it has since been made compatible with a large number of programming languages, and is now an essential part of the [*Jupyter Project*](https://jupyter.org/).\n",
        "The notebook is useful both as a development environment, and as a means of sharing work via rich computational and data-driven narratives that mix together code, figures, data, and text.\n",
        "\n",
        "The document you are viewing now is actually running on a notebook."
      ],
      "metadata": {
        "id": "-1ev7mppaWGL"
      }
    },
    {
      "cell_type": "markdown",
      "source": [
        "# Programming environment tools\n",
        "\n",
        "For IDE, I recommend [VS Code](https://code.visualstudio.com/), especially because of its integration of [Copilot](https://github.com/features/copilot). Students can sign up Copilot for free.\n",
        "\n",
        "You can also run jupyter noteboks either locally or on Google Colab."
      ],
      "metadata": {
        "id": "fZpYDHB9KTAw"
      }
    },
    {
      "cell_type": "markdown",
      "source": [
        "# A really quick intro to the basic python syntax\n",
        "\n",
        "This web page is useful if you are already familliar with another programming language:\n",
        "\n",
        "https://learnxinyminutes.com/docs/python/\n",
        "\n",
        "We will first go over some of the basics and then we will look into important properties and things you should be careful about such as the following:\n",
        "\n"
      ],
      "metadata": {
        "id": "LBD6ZAwevsyt"
      }
    },
    {
      "cell_type": "code",
      "source": [
        "x = 500\n",
        "y = 500\n",
        "\n",
        "\n",
        "x == y"
      ],
      "metadata": {
        "id": "De6YSmItZbPB",
        "colab": {
          "base_uri": "https://localhost:8080/"
        },
        "outputId": "9586ebb4-a03f-441d-a130-7e529c506261"
      },
      "execution_count": null,
      "outputs": [
        {
          "output_type": "execute_result",
          "data": {
            "text/plain": [
              "True"
            ]
          },
          "metadata": {},
          "execution_count": 18
        }
      ]
    },
    {
      "cell_type": "code",
      "source": [
        "x is y"
      ],
      "metadata": {
        "colab": {
          "base_uri": "https://localhost:8080/"
        },
        "id": "hSLgUFTB6Dp_",
        "outputId": "9d45bbad-1108-4072-c4a1-1bc5a22437c7"
      },
      "execution_count": null,
      "outputs": [
        {
          "output_type": "execute_result",
          "data": {
            "text/plain": [
              "False"
            ]
          },
          "metadata": {},
          "execution_count": 19
        }
      ]
    },
    {
      "cell_type": "markdown",
      "source": [
        "## Everything Is an Object\n",
        "\n",
        "Python is an object-oriented programming language, and in Python everything is an **object**.\n",
        "\n",
        "Let's flesh-out what this means.\n",
        "\n",
        "Some claim erroneously that Python is a type-free language. But consider the following:"
      ],
      "metadata": {
        "id": "4eHhLfnEww6x"
      }
    },
    {
      "cell_type": "code",
      "source": [
        "x = 4\n",
        "type(x)"
      ],
      "metadata": {
        "id": "HzMPeiXnxAlc",
        "colab": {
          "base_uri": "https://localhost:8080/"
        },
        "outputId": "6801f01b-a19f-4fa1-f3c8-118b863a313f"
      },
      "execution_count": null,
      "outputs": [
        {
          "output_type": "execute_result",
          "data": {
            "text/plain": [
              "int"
            ]
          },
          "metadata": {},
          "execution_count": 11
        }
      ]
    },
    {
      "cell_type": "code",
      "source": [
        "x = '4'\n",
        "type(x)"
      ],
      "metadata": {
        "colab": {
          "base_uri": "https://localhost:8080/"
        },
        "id": "WCJ2WwlKgR12",
        "outputId": "ad85c1c5-054a-4cc8-cbbb-2dd3fa8aa03d"
      },
      "execution_count": null,
      "outputs": [
        {
          "output_type": "execute_result",
          "data": {
            "text/plain": [
              "str"
            ]
          },
          "metadata": {},
          "execution_count": 12
        }
      ]
    },
    {
      "cell_type": "markdown",
      "source": [
        "Python has types; however, the types are linked not to the variable names but *to the objects themselves*.\n",
        "\n",
        "In object-oriented programming languages like Python, an *object* is an entity that contains data along with associated metadata and/or functionality.\n",
        "In Python everything is an object, which means every entity has some metadata (called *attributes*) and associated functionality (called *methods*).\n",
        "These attributes and methods are accessed via the dot syntax.\n",
        "\n",
        "For example, lists have an ``append`` method, which adds an item to the list, and is accessed via the dot (\"``.``\") syntax:"
      ],
      "metadata": {
        "id": "TcTEnwUuw5ig"
      }
    },
    {
      "cell_type": "code",
      "source": [
        "L = [1, 2, 3]\n",
        "\n",
        "# L.append(100)\n",
        "# print(L)"
      ],
      "metadata": {
        "id": "BAF7YAeNwbJz"
      },
      "execution_count": null,
      "outputs": []
    },
    {
      "cell_type": "code",
      "source": [
        "L.append(4)"
      ],
      "metadata": {
        "id": "ZXdqkTSj7awc"
      },
      "execution_count": null,
      "outputs": []
    },
    {
      "cell_type": "code",
      "source": [
        "print(L)"
      ],
      "metadata": {
        "colab": {
          "base_uri": "https://localhost:8080/"
        },
        "id": "GH4VDTii7kVI",
        "outputId": "3a3f25ba-a0bd-48ec-a08e-424e474832cb"
      },
      "execution_count": null,
      "outputs": [
        {
          "output_type": "stream",
          "name": "stdout",
          "text": [
            "[1, 2, 3, 4]\n"
          ]
        }
      ]
    },
    {
      "cell_type": "markdown",
      "source": [
        "Methods are like attributes, except they are functions that you can call using opening and closing parentheses.\n",
        "For example, floating point numbers have a method called ``is_integer`` that checks whether the value is an integer:"
      ],
      "metadata": {
        "id": "RQVPQ7J4w_Ih"
      }
    },
    {
      "cell_type": "code",
      "source": [
        "x = 4.5\n",
        "x.is_integer()"
      ],
      "metadata": {
        "id": "E7fA92DvxR8S",
        "colab": {
          "base_uri": "https://localhost:8080/"
        },
        "outputId": "23cd51e3-afb2-4d40-b443-12e957da3610"
      },
      "execution_count": null,
      "outputs": [
        {
          "output_type": "execute_result",
          "data": {
            "text/plain": [
              "False"
            ]
          },
          "metadata": {},
          "execution_count": 14
        }
      ]
    },
    {
      "cell_type": "markdown",
      "source": [
        "When we say that everything in Python is an object, we really mean that *everything* is an object – even the attributes and methods of objects are themselves objects with their own ``type`` information:"
      ],
      "metadata": {
        "id": "9F3bpxWaxUnn"
      }
    },
    {
      "cell_type": "code",
      "source": [
        "type(x.is_integer)"
      ],
      "metadata": {
        "id": "Sok-jJR3xXsv",
        "colab": {
          "base_uri": "https://localhost:8080/"
        },
        "outputId": "69c4370b-14be-4a50-f036-86abe5d9d21b"
      },
      "execution_count": null,
      "outputs": [
        {
          "output_type": "execute_result",
          "data": {
            "text/plain": [
              "builtin_function_or_method"
            ]
          },
          "metadata": {},
          "execution_count": 30
        }
      ]
    },
    {
      "cell_type": "markdown",
      "source": [
        "## Built-In Data Structures\n",
        "\n",
        "Python has simple types: ``int``, ``float``, ``complex``, ``bool``, ``str``, and so on.\n",
        "Python also has several built-in compound types, which act as containers for other types.\n",
        "These compound types are:\n",
        "\n",
        "| Type Name | Example                   |Description                            |\n",
        "|-----------|---------------------------|---------------------------------------|\n",
        "| ``list``  | ``[1, 2, 3]``             | Ordered collection                    |\n",
        "| ``tuple`` | ``(1, 2, 3)``             | Immutable ordered collection          |\n",
        "| ``dict``  | ``{'a':1, 'b':2, 'c':3}`` | Unordered (key,value) mapping         |\n",
        "| ``set``   | ``{1, 2, 3}``             | Unordered collection of unique values |\n",
        "\n",
        "As you can see, round, square, and curly brackets have distinct meanings when it comes to the type of collection produced.\n",
        "\n",
        "Try to play around with those structures."
      ],
      "metadata": {
        "id": "iIhsaiVmxwRh"
      }
    },
    {
      "cell_type": "code",
      "source": [
        "# list\n",
        "a = [5,2,3]\n",
        "a.append(3)\n",
        "print(a)"
      ],
      "metadata": {
        "colab": {
          "base_uri": "https://localhost:8080/"
        },
        "id": "ymSs5oJaheHJ",
        "outputId": "123081e5-5652-4bc9-c869-2ae76c54bf6f"
      },
      "execution_count": null,
      "outputs": [
        {
          "output_type": "stream",
          "name": "stdout",
          "text": [
            "[5, 2, 3, 3]\n"
          ]
        }
      ]
    },
    {
      "cell_type": "code",
      "source": [
        "# tuple\n",
        "a = (1,2,3)\n",
        "\n",
        "a + (4,)\n",
        "print(a)"
      ],
      "metadata": {
        "colab": {
          "base_uri": "https://localhost:8080/"
        },
        "id": "53Y_9gW7hqRi",
        "outputId": "4383afa6-f9cf-478a-d8c2-571ad8c5ce11"
      },
      "execution_count": null,
      "outputs": [
        {
          "output_type": "stream",
          "name": "stdout",
          "text": [
            "(1, 2, 3)\n"
          ]
        }
      ]
    },
    {
      "cell_type": "code",
      "source": [
        "# dict\n",
        "a = {'one':'1', '2':2, '3':3}\n",
        "a['one']"
      ],
      "metadata": {
        "colab": {
          "base_uri": "https://localhost:8080/",
          "height": 35
        },
        "id": "Mx7stLPAh98f",
        "outputId": "26512bad-0392-4efe-bf14-c80fc0c23d05"
      },
      "execution_count": null,
      "outputs": [
        {
          "output_type": "execute_result",
          "data": {
            "text/plain": [
              "'1'"
            ],
            "application/vnd.google.colaboratory.intrinsic+json": {
              "type": "string"
            }
          },
          "metadata": {},
          "execution_count": 41
        }
      ]
    },
    {
      "cell_type": "code",
      "source": [
        "# set\n",
        "a = {1,2,3}\n",
        "# a[0]\n",
        "a.add(4)\n",
        "a.add(3)\n",
        "a"
      ],
      "metadata": {
        "colab": {
          "base_uri": "https://localhost:8080/"
        },
        "id": "0tq5CMimiLgK",
        "outputId": "b7739967-ce86-42e1-a66b-ecbde469f298"
      },
      "execution_count": null,
      "outputs": [
        {
          "output_type": "execute_result",
          "data": {
            "text/plain": [
              "{1, 2, 3, 4}"
            ]
          },
          "metadata": {},
          "execution_count": 42
        }
      ]
    },
    {
      "cell_type": "code",
      "source": [
        "# set to list\n",
        "list(a)[0]"
      ],
      "metadata": {
        "colab": {
          "base_uri": "https://localhost:8080/"
        },
        "id": "brEP1Dfxik3X",
        "outputId": "bb0c9025-ca2e-4ce0-dd09-4cf044e3c8dd"
      },
      "execution_count": null,
      "outputs": [
        {
          "output_type": "execute_result",
          "data": {
            "text/plain": [
              "1"
            ]
          },
          "metadata": {},
          "execution_count": 43
        }
      ]
    },
    {
      "cell_type": "markdown",
      "source": [
        "## Anonymous (``lambda``) Functions\n",
        "You can define a function:\n"
      ],
      "metadata": {
        "id": "04wF9l-DzVZQ"
      }
    },
    {
      "cell_type": "code",
      "source": [
        "def func(a,b):\n",
        "  return a+b\n",
        "\n",
        "func(1,3)"
      ],
      "metadata": {
        "colab": {
          "base_uri": "https://localhost:8080/"
        },
        "id": "s3J_swNvjKxE",
        "outputId": "549d464a-a7b6-4610-b3f1-d572b2d56a31"
      },
      "execution_count": null,
      "outputs": [
        {
          "output_type": "execute_result",
          "data": {
            "text/plain": [
              "4"
            ]
          },
          "metadata": {},
          "execution_count": 2
        }
      ]
    },
    {
      "cell_type": "markdown",
      "source": [
        "\n",
        "You'll likely come across another way of defining short, one-off functions with the ``lambda`` statement.\n",
        "It looks something like this:"
      ],
      "metadata": {
        "id": "pe8dUZjcjREk"
      }
    },
    {
      "cell_type": "code",
      "source": [
        "add = lambda x, y: x + y\n",
        "add(1, 2)"
      ],
      "metadata": {
        "id": "KDd1F5s9zZuo",
        "colab": {
          "base_uri": "https://localhost:8080/"
        },
        "outputId": "f361be2e-f1ba-4f11-c6e6-95e288d90998"
      },
      "execution_count": null,
      "outputs": [
        {
          "output_type": "execute_result",
          "data": {
            "text/plain": [
              "3"
            ]
          },
          "metadata": {},
          "execution_count": 1
        }
      ]
    },
    {
      "cell_type": "markdown",
      "source": [
        "So why would you ever want to use such a thing?\n",
        "Primarily, it comes down to the fact that *everything is an object* in Python, **even functions themselves!**\n",
        "That means that functions can be passed as arguments to functions.\n",
        "\n",
        "As an example of this, suppose we have some data stored in a list of dictionaries:"
      ],
      "metadata": {
        "id": "1rZ-dwRazePT"
      }
    },
    {
      "cell_type": "code",
      "source": [
        "data = [{'first':'Guido', 'last':'Van Rossum', 'YOB':1956},\n",
        "        {'first':'Grace', 'last':'Hopper',     'YOB':1906},\n",
        "        {'first':'Alan',  'last':'Turing',     'YOB':1912}]"
      ],
      "metadata": {
        "id": "GxWMFXmezhFZ"
      },
      "execution_count": null,
      "outputs": []
    },
    {
      "cell_type": "markdown",
      "source": [
        "But dictionaries are not orderable: we need a way to tell the function *how* to sort our data.\n",
        "We can do this by specifying the ``key`` function, a function which given an item returns the sorting key for that item:"
      ],
      "metadata": {
        "id": "EdaCOTDbzluB"
      }
    },
    {
      "cell_type": "code",
      "source": [
        "# sort alphabetically by first name\n",
        "sorted(data, key=lambda item: item['first'])"
      ],
      "metadata": {
        "id": "Y4coVZ7Rzmxo",
        "colab": {
          "base_uri": "https://localhost:8080/"
        },
        "outputId": "2201497a-a8f2-4b54-dea3-619b3b63040f"
      },
      "execution_count": null,
      "outputs": [
        {
          "output_type": "execute_result",
          "data": {
            "text/plain": [
              "[{'first': 'Alan', 'last': 'Turing', 'YOB': 1912},\n",
              " {'first': 'Grace', 'last': 'Hopper', 'YOB': 1906},\n",
              " {'first': 'Guido', 'last': 'Van Rossum', 'YOB': 1956}]"
            ]
          },
          "metadata": {},
          "execution_count": 6
        }
      ]
    },
    {
      "cell_type": "code",
      "source": [
        "# sort by year of birth\n",
        "sorted(data, key=lambda item: item['YOB'])"
      ],
      "metadata": {
        "id": "8OPcLt21zpuU",
        "colab": {
          "base_uri": "https://localhost:8080/"
        },
        "outputId": "cbd6269d-5677-45e3-a836-f2425f63b7eb"
      },
      "execution_count": null,
      "outputs": [
        {
          "output_type": "execute_result",
          "data": {
            "text/plain": [
              "[{'first': 'Grace', 'last': 'Hopper', 'YOB': 1906},\n",
              " {'first': 'Alan', 'last': 'Turing', 'YOB': 1912},\n",
              " {'first': 'Guido', 'last': 'Van Rossum', 'YOB': 1956}]"
            ]
          },
          "metadata": {},
          "execution_count": 47
        }
      ]
    },
    {
      "cell_type": "markdown",
      "source": [
        "## Exceptions\n",
        "\n",
        "The main tool Python gives you for handling runtime exceptions is the ``try``...``except`` clause.\n",
        "Its basic structure is this:"
      ],
      "metadata": {
        "id": "JxeTwlTE6-1y"
      }
    },
    {
      "cell_type": "code",
      "source": [
        "try:\n",
        "    print(\"this gets executed first\")\n",
        "    # raise RuntimeError(\"error\")\n",
        "except:\n",
        "    print(\"this gets executed only if there is an error\")"
      ],
      "metadata": {
        "id": "vx5uqOG67LZ6",
        "colab": {
          "base_uri": "https://localhost:8080/"
        },
        "outputId": "afaa1c55-79ac-456a-a0b2-23a09dcaa77f"
      },
      "execution_count": null,
      "outputs": [
        {
          "output_type": "stream",
          "name": "stdout",
          "text": [
            "this gets executed first\n",
            "this gets executed only if there is an error\n"
          ]
        }
      ]
    },
    {
      "cell_type": "code",
      "source": [
        "try:\n",
        "    print(\"let's try something:\")\n",
        "    x = 1 / 0 # ZeroDivisionError\n",
        "except:\n",
        "    print(\"something bad happened!\")"
      ],
      "metadata": {
        "id": "w8IN9xr-7Obo",
        "colab": {
          "base_uri": "https://localhost:8080/"
        },
        "outputId": "0759930a-5951-4999-890d-e13671998dbc"
      },
      "execution_count": null,
      "outputs": [
        {
          "output_type": "stream",
          "name": "stdout",
          "text": [
            "let's try something:\n",
            "something bad happened!\n"
          ]
        }
      ]
    },
    {
      "cell_type": "code",
      "source": [
        "try:\n",
        "    print(\"let's try something:\")\n",
        "    x = 1 / 0 # ZeroDivisionError\n",
        "except:\n",
        "    raise RuntimeError(\"my error message\")"
      ],
      "metadata": {
        "id": "tyoWYtSA7dXh"
      },
      "execution_count": null,
      "outputs": []
    },
    {
      "cell_type": "markdown",
      "source": [
        "What is the difference between the last two?"
      ],
      "metadata": {
        "id": "pvk7hHmJkbJq"
      }
    },
    {
      "cell_type": "markdown",
      "source": [
        "## Iterators\n",
        "\n",
        "An iterator is an object that helps you to iterate over your collection such as lists."
      ],
      "metadata": {
        "id": "Mct6DO138uDB"
      }
    },
    {
      "cell_type": "code",
      "source": [
        "for i in range(10):\n",
        "    print(i)"
      ],
      "metadata": {
        "colab": {
          "base_uri": "https://localhost:8080/"
        },
        "id": "qBuropyQq6pX",
        "outputId": "40435557-3757-4d81-a3fd-58bdc442960a"
      },
      "execution_count": null,
      "outputs": [
        {
          "output_type": "stream",
          "name": "stdout",
          "text": [
            "0\n",
            "1\n",
            "2\n",
            "3\n",
            "4\n",
            "5\n",
            "6\n",
            "7\n",
            "8\n",
            "9\n"
          ]
        }
      ]
    },
    {
      "cell_type": "code",
      "source": [
        "# naive way of iterate over a list\n",
        "L = [2, 4, 6, 8, 10]\n",
        "for l in L:\n",
        "    print(l)"
      ],
      "metadata": {
        "colab": {
          "base_uri": "https://localhost:8080/"
        },
        "id": "15d-5P2OnU11",
        "outputId": "3b89f9f3-4177-44af-fe95-9df6e4069228"
      },
      "execution_count": null,
      "outputs": [
        {
          "output_type": "stream",
          "name": "stdout",
          "text": [
            "2\n",
            "4\n",
            "6\n",
            "8\n",
            "10\n"
          ]
        }
      ]
    },
    {
      "cell_type": "code",
      "source": [
        "I = iter(L)\n",
        "\n",
        "print(I)\n",
        "\n",
        "print(next(I))"
      ],
      "metadata": {
        "colab": {
          "base_uri": "https://localhost:8080/"
        },
        "id": "7auiZWwurF1o",
        "outputId": "01cc4c69-be36-4035-931d-abec6416f982"
      },
      "execution_count": null,
      "outputs": [
        {
          "output_type": "stream",
          "name": "stdout",
          "text": [
            "2\n"
          ]
        }
      ]
    },
    {
      "cell_type": "code",
      "source": [
        "print(next(I))"
      ],
      "metadata": {
        "colab": {
          "base_uri": "https://localhost:8080/"
        },
        "id": "klDajW69rIzW",
        "outputId": "ed9d1e59-1116-4af3-a454-eef6db5473ae"
      },
      "execution_count": null,
      "outputs": [
        {
          "output_type": "stream",
          "name": "stdout",
          "text": [
            "4\n"
          ]
        }
      ]
    },
    {
      "cell_type": "markdown",
      "source": [
        "\n",
        "\n",
        "### ``enumerate``\n",
        "Often you need to iterate not only the values in an array, but also keep track of the index."
      ],
      "metadata": {
        "id": "WqEFPFLcBKnU"
      }
    },
    {
      "cell_type": "code",
      "source": [
        "L = [2, 4, 6, 8, 10]\n",
        "for i, val in enumerate(L):\n",
        "    print(i, val)"
      ],
      "metadata": {
        "id": "aBYEv5i58zvH",
        "colab": {
          "base_uri": "https://localhost:8080/"
        },
        "outputId": "2f93725b-efb2-4943-f82a-8d274d6e52a1"
      },
      "execution_count": null,
      "outputs": [
        {
          "output_type": "stream",
          "name": "stdout",
          "text": [
            "0 2\n",
            "1 4\n",
            "2 6\n",
            "3 8\n",
            "4 10\n"
          ]
        }
      ]
    },
    {
      "cell_type": "code",
      "source": [
        "for i, val in enumerate(L, 5):\n",
        "    print(i, val)"
      ],
      "metadata": {
        "colab": {
          "base_uri": "https://localhost:8080/"
        },
        "id": "ZuveprRGpLXg",
        "outputId": "b678004e-c9b6-4fa6-84da-6d0f0d75c2ae"
      },
      "execution_count": null,
      "outputs": [
        {
          "output_type": "stream",
          "name": "stdout",
          "text": [
            "5 2\n",
            "6 4\n",
            "7 6\n",
            "8 8\n",
            "9 10\n"
          ]
        }
      ]
    },
    {
      "cell_type": "code",
      "source": [
        "enum_L = enumerate(L)\n",
        "\n",
        "next(enum_L)"
      ],
      "metadata": {
        "colab": {
          "base_uri": "https://localhost:8080/"
        },
        "id": "0aEgweiYpWcj",
        "outputId": "e8d32b61-c87d-4953-804d-679f63fcd159"
      },
      "execution_count": null,
      "outputs": [
        {
          "output_type": "execute_result",
          "data": {
            "text/plain": [
              "(0, 2)"
            ]
          },
          "metadata": {},
          "execution_count": 62
        }
      ]
    },
    {
      "cell_type": "code",
      "source": [
        "next(enum_L)"
      ],
      "metadata": {
        "colab": {
          "base_uri": "https://localhost:8080/"
        },
        "id": "uA_b6umApgqz",
        "outputId": "cf5bc9be-95b3-4bbd-e96e-9cf0a2a84c80"
      },
      "execution_count": null,
      "outputs": [
        {
          "output_type": "execute_result",
          "data": {
            "text/plain": [
              "(1, 4)"
            ]
          },
          "metadata": {},
          "execution_count": 63
        }
      ]
    },
    {
      "cell_type": "code",
      "source": [
        "next(enum_L)"
      ],
      "metadata": {
        "colab": {
          "base_uri": "https://localhost:8080/"
        },
        "id": "m1Ihqx4jph-I",
        "outputId": "c4b89c20-9cdc-4b7a-ac09-18162610b894"
      },
      "execution_count": null,
      "outputs": [
        {
          "output_type": "execute_result",
          "data": {
            "text/plain": [
              "(2, 6)"
            ]
          },
          "metadata": {},
          "execution_count": 64
        }
      ]
    },
    {
      "cell_type": "markdown",
      "source": [
        "### ``zip``\n",
        "Other times, you may have multiple lists that you want to iterate over simultaneously.\n",
        "You could certainly iterate over the index, but in \"python's way\" it is better to use the ``zip`` iterator, which zips together iterables:"
      ],
      "metadata": {
        "id": "Ghh8YqVN83xK"
      }
    },
    {
      "cell_type": "code",
      "source": [
        "L = [2, 4, 6, 8, 10]\n",
        "R = [3, 6, 9, 12, 15]\n",
        "for lval, rval in zip(L, R):\n",
        "    print(lval, rval)"
      ],
      "metadata": {
        "id": "40JATJ0q84tZ",
        "colab": {
          "base_uri": "https://localhost:8080/"
        },
        "outputId": "b15e3b66-9d41-469e-94e9-09979f2a3c19"
      },
      "execution_count": null,
      "outputs": [
        {
          "output_type": "stream",
          "name": "stdout",
          "text": [
            "2 3\n",
            "4 6\n",
            "6 9\n",
            "8 12\n",
            "10 15\n"
          ]
        }
      ]
    },
    {
      "cell_type": "markdown",
      "source": [
        "It comes very handy when you have to deal with data that has multiple attributes."
      ],
      "metadata": {
        "id": "_OX8Q992qGSq"
      }
    },
    {
      "cell_type": "code",
      "source": [
        "names = ['apple', 'banana', 'cherry']\n",
        "prices = [2, 5, 12]\n",
        "\n",
        "for name, price in zip(names, prices):\n",
        "    print(name, price)"
      ],
      "metadata": {
        "colab": {
          "base_uri": "https://localhost:8080/"
        },
        "id": "sDCO1C4op3VG",
        "outputId": "e2a5c55c-68b8-4b89-b84a-91261f410bae"
      },
      "execution_count": null,
      "outputs": [
        {
          "output_type": "stream",
          "name": "stdout",
          "text": [
            "apple 2\n",
            "banana 5\n",
            "cherry 12\n"
          ]
        }
      ]
    },
    {
      "cell_type": "markdown",
      "source": [
        "### ``map`` and ``filter``\n",
        "The ``map`` iterator takes a function and applies it to the values in an iterator:"
      ],
      "metadata": {
        "id": "kBNIHqAU87jp"
      }
    },
    {
      "cell_type": "code",
      "source": [
        "# find the first 10 square numbers\n",
        "square = lambda x: x ** 2\n",
        "for val in map(square, range(10)):\n",
        "    print(val, end=' ')"
      ],
      "metadata": {
        "id": "nhlQgxRTrSjg",
        "colab": {
          "base_uri": "https://localhost:8080/"
        },
        "outputId": "8e572d4d-b0b9-41e9-d874-a250ee4593f6"
      },
      "execution_count": null,
      "outputs": [
        {
          "output_type": "stream",
          "name": "stdout",
          "text": [
            "0 1 4 9 16 25 36 49 64 81 "
          ]
        }
      ]
    },
    {
      "cell_type": "markdown",
      "source": [
        "The ``filter`` iterator looks similar, except it only passes-through values for which the filter function evaluates to True:"
      ],
      "metadata": {
        "id": "e3N5Yby_rTw9"
      }
    },
    {
      "cell_type": "code",
      "source": [
        "# find values up to 10 for which x % 2 is zero\n",
        "is_even = lambda x: x % 2 != 0\n",
        "for val in filter(is_even, range(10)):\n",
        "    print(val, end=' ')"
      ],
      "metadata": {
        "id": "KWrX4yF_88Lm",
        "colab": {
          "base_uri": "https://localhost:8080/"
        },
        "outputId": "15454d88-377b-4705-ed90-7060c58c3cae"
      },
      "execution_count": null,
      "outputs": [
        {
          "output_type": "stream",
          "name": "stdout",
          "text": [
            "1 3 5 7 9 "
          ]
        }
      ]
    },
    {
      "cell_type": "code",
      "source": [
        "for val in filter(is_even, L):\n",
        "    print(val)"
      ],
      "metadata": {
        "colab": {
          "base_uri": "https://localhost:8080/"
        },
        "id": "C1ZP0btYsPcN",
        "outputId": "0d45b111-ee0d-44da-fa36-ebd07cfa08b3"
      },
      "execution_count": null,
      "outputs": [
        {
          "output_type": "stream",
          "name": "stdout",
          "text": [
            "2\n",
            "4\n",
            "6\n",
            "8\n",
            "10\n"
          ]
        }
      ]
    },
    {
      "cell_type": "markdown",
      "source": [
        "## Decorators\n",
        "\n",
        "The Python language provides a simple yet powerful syntax called 'decorators'.\n",
        "A decorator is a function or a class that wraps (or decorates) a function\n",
        "or a method. The 'decorated' function or method will replace the original\n",
        "'undecorated' function or method.\n",
        "\n",
        "Put it simply: decorators wrap a function, modifying its behavior.\n",
        "\n",
        "https://realpython.com/primer-on-python-decorators/#simple-decorators"
      ],
      "metadata": {
        "id": "YEGwwqZfA0--"
      }
    },
    {
      "cell_type": "code",
      "source": [
        "def my_decorator(func):\n",
        "    def wrapper():\n",
        "        print(\"Something is happening before the function is called.\")\n",
        "        func()\n",
        "        print(\"Something is happening after the function is called.\")\n",
        "    return wrapper\n",
        "\n",
        "@my_decorator\n",
        "def say_whee():\n",
        "    print(\"Whee!\")\n",
        "\n",
        "say_whee()"
      ],
      "metadata": {
        "colab": {
          "base_uri": "https://localhost:8080/"
        },
        "id": "1z0F-0FftW9C",
        "outputId": "af32b0b7-6fee-48c9-a6c0-48ad7f369623"
      },
      "execution_count": null,
      "outputs": [
        {
          "output_type": "stream",
          "name": "stdout",
          "text": [
            "Something is happening before the function is called.\n",
            "Whee!\n",
            "Something is happening after the function is called.\n"
          ]
        }
      ]
    },
    {
      "cell_type": "markdown",
      "source": [
        "This mechanism is useful for separating concerns and avoiding external unrelated logic 'polluting' the core logic of the function or method. A good example of a piece of functionality that is better handled with decoration is memoization <https://en.wikipedia.org/wiki/Memoization#Overview>__ or caching: you want to store the results of an expensive function in a table and use them directly instead of recomputing them when they have already been computed. This is clearly not part of the function logic."
      ],
      "metadata": {
        "id": "_uGUcJFqtaCR"
      }
    },
    {
      "cell_type": "markdown",
      "source": [
        "\n",
        "## Context manager\n",
        "\n",
        "A context manager is a Python object that provides extra contextual information\n",
        "to an action. This extra information takes the form of running a callable upon\n",
        "initiating the context using the ``with`` statement, as well as running a callable\n",
        "upon completing all the code inside the ``with`` block. The most well known\n",
        "example of using a context manager is shown here, opening on a file:\n",
        "\n"
      ],
      "metadata": {
        "id": "DCK4bJ5pBE4E"
      }
    },
    {
      "cell_type": "code",
      "source": [
        "with open('file.txt','w') as f:\n",
        "    f.write('hey')\n",
        "\n",
        "\n",
        "with open('file.txt','r') as f:\n",
        "    contents = f.read()\n",
        "print(contents)\n"
      ],
      "metadata": {
        "colab": {
          "base_uri": "https://localhost:8080/"
        },
        "id": "T81DHPSyvIzm",
        "outputId": "d5422a75-fd6c-4fd3-ded3-447123160311"
      },
      "execution_count": null,
      "outputs": [
        {
          "output_type": "stream",
          "name": "stdout",
          "text": [
            "hey\n"
          ]
        }
      ]
    },
    {
      "cell_type": "markdown",
      "source": [
        "And you don't have to worry about closing the file manually."
      ],
      "metadata": {
        "id": "qkoQJgu4vp6Z"
      }
    },
    {
      "cell_type": "markdown",
      "source": [
        "\n",
        "Anyone familiar with this pattern knows that invoking ``open`` in this fashion\n",
        "ensures that ``f``'s ``close`` method will be called at some point. This reduces\n",
        "a developer's cognitive load and makes the code easier to read.\n",
        "\n",
        "There are two easy ways to implement this functionality yourself: using a class\n",
        "or using a generator. Let's implement the above functionality ourselves, starting\n",
        "with the class approach:\n"
      ],
      "metadata": {
        "id": "JDbzLEzlvO4U"
      }
    },
    {
      "cell_type": "code",
      "source": [
        "\n",
        "class CustomOpen(object):\n",
        "    def __init__(self, filename):\n",
        "        self.file = open(filename)\n",
        "\n",
        "    def __enter__(self):\n",
        "        return self.file\n",
        "\n",
        "    def __exit__(self, ctx_type, ctx_value, ctx_traceback):\n",
        "        self.file.close()\n",
        "\n",
        "with CustomOpen('file') as f:\n",
        "    contents = f.read()\n"
      ],
      "metadata": {
        "id": "wV99gkF3vRG7"
      },
      "execution_count": null,
      "outputs": []
    },
    {
      "cell_type": "markdown",
      "source": [
        "\n",
        "This is just a regular Python object with two extra methods that are used\n",
        "by the ``with`` statement. CustomOpen is first instantiated and then its\n",
        "``__enter__`` method is called and whatever ``__enter__`` returns is assigned to\n",
        "``f`` in the ``as f`` part of the statement. When the contents of the ``with`` block\n",
        "is finished executing, the ``__exit__`` method is then called.\n",
        "\n",
        "And now the generator approach using Python's own\n",
        "[contextlib](https://docs.python.org/3/library/contextlib.html):\n"
      ],
      "metadata": {
        "id": "xk7V9wkovS_p"
      }
    },
    {
      "cell_type": "code",
      "source": [
        "\n",
        "from contextlib import contextmanager\n",
        "\n",
        "@contextmanager\n",
        "def custom_open(filename):\n",
        "    f = open(filename)\n",
        "    try:\n",
        "        yield f\n",
        "    finally:\n",
        "        f.close()\n",
        "\n",
        "with custom_open('file') as f:\n",
        "    contents = f.read()\n"
      ],
      "metadata": {
        "id": "aFd64HS0vVrF"
      },
      "execution_count": null,
      "outputs": []
    },
    {
      "cell_type": "markdown",
      "source": [
        "\n",
        "This works in exactly the same way as the class example above, albeit it's\n",
        "more terse. The ``custom_open`` function executes until it reaches the ``yield``\n",
        "statement. It then gives control back to the ``with`` statement, which assigns\n",
        "whatever was ``yield``'ed to `f` in the ``as f`` portion. The ``finally`` clause\n",
        "ensures that ``close()`` is called whether or not there was an exception inside\n",
        "the ``with``.\n",
        "\n",
        "Since the two approaches appear the same, we should follow the Zen of Python\n",
        "to decide when to use which. The class approach might be better if there's\n",
        "a considerable amount of logic to encapsulate. The function approach\n",
        "might be better for situations where we're dealing with a simple action."
      ],
      "metadata": {
        "id": "qH-WdKLhvWRL"
      }
    },
    {
      "cell_type": "markdown",
      "source": [
        "# Structure of a Python project\n",
        "\n",
        "https://docs.python-guide.org/writing/structure/\n",
        "\n",
        "\n",
        "This is what Kenneth Reitz recommended in 2013 <https://kennethreitz.org/essays/2013/01/27/repository-structure-and-python>.\n",
        "\n",
        "This repository is available on\n",
        "[GitHub](https://github.com/kennethreitz/samplemod).\n",
        "\n",
        "\n",
        "    README.rst\n",
        "    LICENSE\n",
        "    setup.py\n",
        "    requirements.txt\n",
        "    sample/__init__.py\n",
        "    sample/core.py\n",
        "    sample/helpers.py\n",
        "    docs/conf.py\n",
        "    docs/index.rst\n",
        "    tests/test_basic.py\n",
        "    tests/test_advanced.py"
      ],
      "metadata": {
        "id": "nTE7cJM7wffn"
      }
    },
    {
      "cell_type": "markdown",
      "source": [
        "## Role of ``__init__.py``\n",
        "\n",
        "https://docs.python.org/3/tutorial/modules.html#packages\n",
        "\n",
        "The ``__init__.py`` files are required to make Python treat directories containing the file as packages."
      ],
      "metadata": {
        "id": "XOpYQN4l77GN"
      }
    },
    {
      "cell_type": "code",
      "source": [],
      "metadata": {
        "id": "9YBPEczNyoZZ"
      },
      "execution_count": null,
      "outputs": []
    }
  ]
}